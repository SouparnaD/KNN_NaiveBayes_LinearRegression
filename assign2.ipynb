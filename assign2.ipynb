{
 "cells": [
  {
   "cell_type": "markdown",
   "metadata": {},
   "source": [
    "## ASSIGNMENT 1\n",
    "\n",
    "### Question 1 (20 points)\n",
    "       We will be working on two datasets as part of this question.\n",
    "    1. Robot1 & Robot2 The robot problem is from artiﬁcial robot domain in which robots are described by 6 diﬀerent attributes. The learning task is a binary classiﬁcation task. Perform modelling on both the datasets. Data is available at http://preon.iiit.ac.in/~sanjoy_chowdhury/RobotDataset.zip\n",
    "\n",
    "    2. Iris.csv The data set consists of samples from each of three species of Iris (Iris setosa, Iris virginica and Iris versicolor). Four features were measured from each sample: the length and the width of the sepals and petals, in centimeters. Data and it’s description is available at http://preon.iiit.ac.in/~sanjoy_chowdhury/ Iris.zip\n",
    "                    Use the above datasets to answer following questions\n",
    "1. Implement a KNN classiﬁer for each of the datasets. Report precision, recall, f1 score and accuracy. Compare your result with in-built(scikit-learn) KNN function to check correctness of your algorithm.(10 points)\n",
    "2. Use diﬀerent distance measures as applicable. Plot graph to report accuracy with change in value of K. Also suggest possible reason for better performance. (10 points)\n",
    "### Question 2 (20 points)\n",
    "     A bank is implementing a system to identify potential customers who have higher probablity of availing loans to increase its proﬁt. Implement Naive Bayes classiﬁer on this dataset to help bank achieve its goal. Report your observations and accuracy of the model. Data is available at http://preon.iiit.ac.in/~sanjoy_chowdhury/ LoanDataset.zip\n",
    "### Question 3 (20 points)\n",
    "    We are given a dataset containing various criteria important to get admissions into Master’s program and probablity of getting an admit. Dataset is available at http://preon.iiit.ac.in/~sanjoy_chowdhury/AdmissionDataset.zip\n",
    "    \n",
    "    3.1. Implement a model using linear regression to predict the probablity of getting the admit.(10 points)\n",
    "    \n",
    "    3.2. Compare the performance of Mean square error loss function vs Mean Absolute error function vs Mean absolute percentage error function and explain the reasons for the observed behaviour.(5 points)\n",
    "    \n",
    "    3.3. Analyse and report the behaviour of the coeﬃcients(for example: sign of coeﬃcients, value of coeﬃcients etc.) and support it with appropriate plots as necessary(5 points)\n"
   ]
  },
  {
   "cell_type": "code",
   "execution_count": 3,
   "metadata": {},
   "outputs": [],
   "source": [
    "import pandas as pd\n",
    "import numpy as np"
   ]
  },
  {
   "cell_type": "markdown",
   "metadata": {},
   "source": [
    "#### Loading the IRIS dataset"
   ]
  },
  {
   "cell_type": "code",
   "execution_count": 4,
   "metadata": {},
   "outputs": [
    {
     "data": {
      "text/html": [
       "<div>\n",
       "<style scoped>\n",
       "    .dataframe tbody tr th:only-of-type {\n",
       "        vertical-align: middle;\n",
       "    }\n",
       "\n",
       "    .dataframe tbody tr th {\n",
       "        vertical-align: top;\n",
       "    }\n",
       "\n",
       "    .dataframe thead th {\n",
       "        text-align: right;\n",
       "    }\n",
       "</style>\n",
       "<table border=\"1\" class=\"dataframe\">\n",
       "  <thead>\n",
       "    <tr style=\"text-align: right;\">\n",
       "      <th></th>\n",
       "      <th>0</th>\n",
       "      <th>1</th>\n",
       "      <th>2</th>\n",
       "      <th>3</th>\n",
       "      <th>4</th>\n",
       "    </tr>\n",
       "  </thead>\n",
       "  <tbody>\n",
       "    <tr>\n",
       "      <th>0</th>\n",
       "      <td>5.1</td>\n",
       "      <td>3.5</td>\n",
       "      <td>1.4</td>\n",
       "      <td>0.2</td>\n",
       "      <td>Iris-setosa</td>\n",
       "    </tr>\n",
       "    <tr>\n",
       "      <th>1</th>\n",
       "      <td>6.3</td>\n",
       "      <td>3.3</td>\n",
       "      <td>6.0</td>\n",
       "      <td>2.5</td>\n",
       "      <td>Iris-virginica</td>\n",
       "    </tr>\n",
       "    <tr>\n",
       "      <th>2</th>\n",
       "      <td>5.0</td>\n",
       "      <td>3.0</td>\n",
       "      <td>1.6</td>\n",
       "      <td>0.2</td>\n",
       "      <td>Iris-setosa</td>\n",
       "    </tr>\n",
       "    <tr>\n",
       "      <th>3</th>\n",
       "      <td>6.2</td>\n",
       "      <td>2.8</td>\n",
       "      <td>4.8</td>\n",
       "      <td>1.8</td>\n",
       "      <td>Iris-virginica</td>\n",
       "    </tr>\n",
       "    <tr>\n",
       "      <th>4</th>\n",
       "      <td>6.4</td>\n",
       "      <td>3.1</td>\n",
       "      <td>5.5</td>\n",
       "      <td>1.8</td>\n",
       "      <td>Iris-virginica</td>\n",
       "    </tr>\n",
       "  </tbody>\n",
       "</table>\n",
       "</div>"
      ],
      "text/plain": [
       "     0    1    2    3               4\n",
       "0  5.1  3.5  1.4  0.2     Iris-setosa\n",
       "1  6.3  3.3  6.0  2.5  Iris-virginica\n",
       "2  5.0  3.0  1.6  0.2     Iris-setosa\n",
       "3  6.2  2.8  4.8  1.8  Iris-virginica\n",
       "4  6.4  3.1  5.5  1.8  Iris-virginica"
      ]
     },
     "execution_count": 4,
     "metadata": {},
     "output_type": "execute_result"
    }
   ],
   "source": [
    "df_iris = pd.read_csv(\"Iris/iris.csv\",header=None)\n",
    "df_iris.head()"
   ]
  },
  {
   "cell_type": "code",
   "execution_count": 5,
   "metadata": {},
   "outputs": [],
   "source": [
    "df_iris.columns=[\"attr1\",\"attr2\",\"attr3\",\"attr4\",\"label\"]"
   ]
  },
  {
   "cell_type": "code",
   "execution_count": 6,
   "metadata": {},
   "outputs": [
    {
     "data": {
      "text/html": [
       "<div>\n",
       "<style scoped>\n",
       "    .dataframe tbody tr th:only-of-type {\n",
       "        vertical-align: middle;\n",
       "    }\n",
       "\n",
       "    .dataframe tbody tr th {\n",
       "        vertical-align: top;\n",
       "    }\n",
       "\n",
       "    .dataframe thead th {\n",
       "        text-align: right;\n",
       "    }\n",
       "</style>\n",
       "<table border=\"1\" class=\"dataframe\">\n",
       "  <thead>\n",
       "    <tr style=\"text-align: right;\">\n",
       "      <th></th>\n",
       "      <th>attr1</th>\n",
       "      <th>attr2</th>\n",
       "      <th>attr3</th>\n",
       "      <th>attr4</th>\n",
       "      <th>label</th>\n",
       "    </tr>\n",
       "  </thead>\n",
       "  <tbody>\n",
       "    <tr>\n",
       "      <th>0</th>\n",
       "      <td>5.1</td>\n",
       "      <td>3.5</td>\n",
       "      <td>1.4</td>\n",
       "      <td>0.2</td>\n",
       "      <td>Iris-setosa</td>\n",
       "    </tr>\n",
       "    <tr>\n",
       "      <th>1</th>\n",
       "      <td>6.3</td>\n",
       "      <td>3.3</td>\n",
       "      <td>6.0</td>\n",
       "      <td>2.5</td>\n",
       "      <td>Iris-virginica</td>\n",
       "    </tr>\n",
       "    <tr>\n",
       "      <th>2</th>\n",
       "      <td>5.0</td>\n",
       "      <td>3.0</td>\n",
       "      <td>1.6</td>\n",
       "      <td>0.2</td>\n",
       "      <td>Iris-setosa</td>\n",
       "    </tr>\n",
       "    <tr>\n",
       "      <th>3</th>\n",
       "      <td>6.2</td>\n",
       "      <td>2.8</td>\n",
       "      <td>4.8</td>\n",
       "      <td>1.8</td>\n",
       "      <td>Iris-virginica</td>\n",
       "    </tr>\n",
       "    <tr>\n",
       "      <th>4</th>\n",
       "      <td>6.4</td>\n",
       "      <td>3.1</td>\n",
       "      <td>5.5</td>\n",
       "      <td>1.8</td>\n",
       "      <td>Iris-virginica</td>\n",
       "    </tr>\n",
       "  </tbody>\n",
       "</table>\n",
       "</div>"
      ],
      "text/plain": [
       "   attr1  attr2  attr3  attr4           label\n",
       "0    5.1    3.5    1.4    0.2     Iris-setosa\n",
       "1    6.3    3.3    6.0    2.5  Iris-virginica\n",
       "2    5.0    3.0    1.6    0.2     Iris-setosa\n",
       "3    6.2    2.8    4.8    1.8  Iris-virginica\n",
       "4    6.4    3.1    5.5    1.8  Iris-virginica"
      ]
     },
     "execution_count": 6,
     "metadata": {},
     "output_type": "execute_result"
    }
   ],
   "source": [
    "df_iris.head()"
   ]
  },
  {
   "cell_type": "code",
   "execution_count": 7,
   "metadata": {},
   "outputs": [],
   "source": [
    "label = df_iris[\"label\"]\n",
    "df_iris= df_iris.iloc[:,0:4]"
   ]
  },
  {
   "cell_type": "code",
   "execution_count": 8,
   "metadata": {},
   "outputs": [],
   "source": [
    "from sklearn.model_selection import train_test_split\n",
    "X_train,X_test,Y_train,Y_test = train_test_split(df_iris,label,test_size = 0.2)"
   ]
  },
  {
   "cell_type": "code",
   "execution_count": 9,
   "metadata": {},
   "outputs": [
    {
     "name": "stdout",
     "output_type": "stream",
     "text": [
      "X_train shape: (108, 4)\n",
      "Y_train shape: (108,)\n",
      "X_test shape: (27, 4)\n",
      "Y_test shape: (27,)\n"
     ]
    }
   ],
   "source": [
    "print(\"X_train shape:\",X_train.shape)\n",
    "print(\"Y_train shape:\",Y_train.shape)\n",
    "print(\"X_test shape:\",X_test.shape)\n",
    "print(\"Y_test shape:\",Y_test.shape)"
   ]
  },
  {
   "cell_type": "markdown",
   "metadata": {},
   "source": [
    "### Implementing KNN alogorithm"
   ]
  },
  {
   "cell_type": "code",
   "execution_count": 10,
   "metadata": {},
   "outputs": [],
   "source": [
    "\n",
    "def find_majority(distances,k):\n",
    "    labels = []\n",
    "    for i in range(0,k):\n",
    "        labels.append(distances[i][1])\n",
    "    return max(labels,key=labels.count)\n",
    "def knn(X_train,Y_train,X_test,k=3,p=2):\n",
    "    predictions=[]\n",
    "    for test_index,test_rows in X_test.iterrows():\n",
    "        distances=[]\n",
    "        for train_index,train_rows in X_train.iterrows():\n",
    "            dist_each = 0\n",
    "            for key in X_train.keys():\n",
    "                dist_each += abs(test_rows[key] - train_rows[key])**p\n",
    "            dist_each=dist_each**(1/p)\n",
    "            distances.append((dist_each,Y_train[train_index]))\n",
    "        distances.sort()  \n",
    "        predictions.append(find_majority(distances,k))\n",
    "    return predictions\n",
    "    "
   ]
  },
  {
   "cell_type": "markdown",
   "metadata": {},
   "source": [
    "#### Question 1.1"
   ]
  },
  {
   "cell_type": "code",
   "execution_count": 11,
   "metadata": {},
   "outputs": [],
   "source": [
    "predictions = knn(X_train,Y_train,X_test,k=5,p=2)"
   ]
  },
  {
   "cell_type": "code",
   "execution_count": 12,
   "metadata": {},
   "outputs": [
    {
     "name": "stdout",
     "output_type": "stream",
     "text": [
      "                 precision    recall  f1-score   support\n",
      "\n",
      "    Iris-setosa       1.00      1.00      1.00        12\n",
      "Iris-versicolor       0.86      1.00      0.92         6\n",
      " Iris-virginica       1.00      0.89      0.94         9\n",
      "\n",
      "    avg / total       0.97      0.96      0.96        27\n",
      "\n",
      "accuracy_score: 0.9629629629629629\n"
     ]
    }
   ],
   "source": [
    "from sklearn import metrics\n",
    "from sklearn.metrics import accuracy_score\n",
    "print(metrics.classification_report(Y_test,predictions))\n",
    "print(\"accuracy_score:\",accuracy_score(Y_test,predictions))\n"
   ]
  },
  {
   "cell_type": "markdown",
   "metadata": {},
   "source": [
    "#### TRAINING WITH SKLEARN KNN"
   ]
  },
  {
   "cell_type": "code",
   "execution_count": 13,
   "metadata": {},
   "outputs": [],
   "source": [
    "from sklearn.neighbors import KNeighborsClassifier\n",
    "neigh = KNeighborsClassifier(n_neighbors=3)\n",
    "neigh.fit(X_train, Y_train)\n",
    "pred = neigh.predict(X_test)"
   ]
  },
  {
   "cell_type": "code",
   "execution_count": 14,
   "metadata": {},
   "outputs": [
    {
     "name": "stdout",
     "output_type": "stream",
     "text": [
      "                 precision    recall  f1-score   support\n",
      "\n",
      "    Iris-setosa       1.00      1.00      1.00        12\n",
      "Iris-versicolor       1.00      1.00      1.00         6\n",
      " Iris-virginica       1.00      1.00      1.00         9\n",
      "\n",
      "    avg / total       1.00      1.00      1.00        27\n",
      "\n",
      "accuracy_score: 1.0\n"
     ]
    }
   ],
   "source": [
    "print(metrics.classification_report(Y_test,pred))\n",
    "print(\"accuracy_score:\",accuracy_score(Y_test,pred))"
   ]
  },
  {
   "cell_type": "markdown",
   "metadata": {},
   "source": [
    "#### question 1.2"
   ]
  },
  {
   "cell_type": "code",
   "execution_count": 15,
   "metadata": {},
   "outputs": [],
   "source": [
    "accuracy=[]\n",
    "k_neigh = []\n",
    "for k in range(1,80,2):\n",
    "    pred = knn(X_train,Y_train,X_test,k=k,p=2)\n",
    "    accuracy.append(accuracy_score(Y_test,pred))\n",
    "    k_neigh.append(k)\n",
    "\n"
   ]
  },
  {
   "cell_type": "code",
   "execution_count": 17,
   "metadata": {},
   "outputs": [
    {
     "data": {
      "image/png": "[encoded data removed]",
      "text/plain": [
       "<Figure size 864x576 with 1 Axes>"
      ]
     },
     "metadata": {},
     "output_type": "display_data"
    }
   ],
   "source": [
    "from scipy.interpolate import interp1d\n",
    "import matplotlib.pyplot as plt\n",
    "%matplotlib inline\n",
    "\n",
    "fig=plt.figure(figsize=(12,8))\n",
    "fig.suptitle(\"accuracy vs k neighbours\")\n",
    "plt.xlabel(\"number of neighbours\")\n",
    "plt.ylabel(\"accuracy\")\n",
    "neigh_new = np.linspace(min(k_neigh), max(k_neigh),200)\n",
    "f1 = interp1d(k_neigh, accuracy, kind='cubic')\n",
    "accuracy_smooth = f1(neigh_new)\n",
    "plt.plot(neigh_new, accuracy_smooth,linestyle='-', color='b',label=\"accuracy\")\n",
    "plt.scatter(k_neigh,accuracy)\n",
    "# plt.plot(k_neigh,accuracy,linestyle='-',color='r',label=\"accuracy\")\n",
    "# plt.scatter(k_neigh,accuracy)\n",
    "plt.legend()\n",
    "plt.show()"
   ]
  },
  {
   "cell_type": "code",
   "execution_count": 19,
   "metadata": {},
   "outputs": [
    {
     "data": {
      "text/html": [
       "<div>\n",
       "<style scoped>\n",
       "    .dataframe tbody tr th:only-of-type {\n",
       "        vertical-align: middle;\n",
       "    }\n",
       "\n",
       "    .dataframe tbody tr th {\n",
       "        vertical-align: top;\n",
       "    }\n",
       "\n",
       "    .dataframe thead th {\n",
       "        text-align: right;\n",
       "    }\n",
       "</style>\n",
       "<table border=\"1\" class=\"dataframe\">\n",
       "  <thead>\n",
       "    <tr style=\"text-align: right;\">\n",
       "      <th></th>\n",
       "      <th>0</th>\n",
       "      <th>1</th>\n",
       "      <th>2</th>\n",
       "      <th>3</th>\n",
       "      <th>4</th>\n",
       "      <th>5</th>\n",
       "      <th>6</th>\n",
       "      <th>7</th>\n",
       "      <th>8</th>\n",
       "    </tr>\n",
       "  </thead>\n",
       "  <tbody>\n",
       "    <tr>\n",
       "      <th>0</th>\n",
       "      <td>NaN</td>\n",
       "      <td>1</td>\n",
       "      <td>1</td>\n",
       "      <td>1</td>\n",
       "      <td>1</td>\n",
       "      <td>1</td>\n",
       "      <td>3</td>\n",
       "      <td>1</td>\n",
       "      <td>data_5</td>\n",
       "    </tr>\n",
       "    <tr>\n",
       "      <th>1</th>\n",
       "      <td>NaN</td>\n",
       "      <td>1</td>\n",
       "      <td>1</td>\n",
       "      <td>1</td>\n",
       "      <td>1</td>\n",
       "      <td>1</td>\n",
       "      <td>3</td>\n",
       "      <td>2</td>\n",
       "      <td>data_6</td>\n",
       "    </tr>\n",
       "    <tr>\n",
       "      <th>2</th>\n",
       "      <td>NaN</td>\n",
       "      <td>1</td>\n",
       "      <td>1</td>\n",
       "      <td>1</td>\n",
       "      <td>1</td>\n",
       "      <td>3</td>\n",
       "      <td>2</td>\n",
       "      <td>1</td>\n",
       "      <td>data_19</td>\n",
       "    </tr>\n",
       "    <tr>\n",
       "      <th>3</th>\n",
       "      <td>NaN</td>\n",
       "      <td>1</td>\n",
       "      <td>1</td>\n",
       "      <td>1</td>\n",
       "      <td>1</td>\n",
       "      <td>3</td>\n",
       "      <td>3</td>\n",
       "      <td>2</td>\n",
       "      <td>data_22</td>\n",
       "    </tr>\n",
       "    <tr>\n",
       "      <th>4</th>\n",
       "      <td>NaN</td>\n",
       "      <td>1</td>\n",
       "      <td>1</td>\n",
       "      <td>1</td>\n",
       "      <td>2</td>\n",
       "      <td>1</td>\n",
       "      <td>2</td>\n",
       "      <td>1</td>\n",
       "      <td>data_27</td>\n",
       "    </tr>\n",
       "  </tbody>\n",
       "</table>\n",
       "</div>"
      ],
      "text/plain": [
       "    0  1  2  3  4  5  6  7        8\n",
       "0 NaN  1  1  1  1  1  3  1   data_5\n",
       "1 NaN  1  1  1  1  1  3  2   data_6\n",
       "2 NaN  1  1  1  1  3  2  1  data_19\n",
       "3 NaN  1  1  1  1  3  3  2  data_22\n",
       "4 NaN  1  1  1  2  1  2  1  data_27"
      ]
     },
     "execution_count": 19,
     "metadata": {},
     "output_type": "execute_result"
    }
   ],
   "source": [
    "df_robot1 = pd.read_csv(\"RobotDataset/Robot1\",header=None,delimiter=' ')\n",
    "df_robot1.head(5)"
   ]
  },
  {
   "cell_type": "code",
   "execution_count": 20,
   "metadata": {},
   "outputs": [
    {
     "data": {
      "text/html": [
       "<div>\n",
       "<style scoped>\n",
       "    .dataframe tbody tr th:only-of-type {\n",
       "        vertical-align: middle;\n",
       "    }\n",
       "\n",
       "    .dataframe tbody tr th {\n",
       "        vertical-align: top;\n",
       "    }\n",
       "\n",
       "    .dataframe thead th {\n",
       "        text-align: right;\n",
       "    }\n",
       "</style>\n",
       "<table border=\"1\" class=\"dataframe\">\n",
       "  <thead>\n",
       "    <tr style=\"text-align: right;\">\n",
       "      <th></th>\n",
       "      <th>1</th>\n",
       "      <th>2</th>\n",
       "      <th>3</th>\n",
       "      <th>4</th>\n",
       "      <th>5</th>\n",
       "      <th>6</th>\n",
       "      <th>7</th>\n",
       "    </tr>\n",
       "  </thead>\n",
       "  <tbody>\n",
       "    <tr>\n",
       "      <th>0</th>\n",
       "      <td>1</td>\n",
       "      <td>1</td>\n",
       "      <td>1</td>\n",
       "      <td>1</td>\n",
       "      <td>1</td>\n",
       "      <td>3</td>\n",
       "      <td>1</td>\n",
       "    </tr>\n",
       "    <tr>\n",
       "      <th>1</th>\n",
       "      <td>1</td>\n",
       "      <td>1</td>\n",
       "      <td>1</td>\n",
       "      <td>1</td>\n",
       "      <td>1</td>\n",
       "      <td>3</td>\n",
       "      <td>2</td>\n",
       "    </tr>\n",
       "    <tr>\n",
       "      <th>2</th>\n",
       "      <td>1</td>\n",
       "      <td>1</td>\n",
       "      <td>1</td>\n",
       "      <td>1</td>\n",
       "      <td>3</td>\n",
       "      <td>2</td>\n",
       "      <td>1</td>\n",
       "    </tr>\n",
       "    <tr>\n",
       "      <th>3</th>\n",
       "      <td>1</td>\n",
       "      <td>1</td>\n",
       "      <td>1</td>\n",
       "      <td>1</td>\n",
       "      <td>3</td>\n",
       "      <td>3</td>\n",
       "      <td>2</td>\n",
       "    </tr>\n",
       "    <tr>\n",
       "      <th>4</th>\n",
       "      <td>1</td>\n",
       "      <td>1</td>\n",
       "      <td>1</td>\n",
       "      <td>2</td>\n",
       "      <td>1</td>\n",
       "      <td>2</td>\n",
       "      <td>1</td>\n",
       "    </tr>\n",
       "  </tbody>\n",
       "</table>\n",
       "</div>"
      ],
      "text/plain": [
       "   1  2  3  4  5  6  7\n",
       "0  1  1  1  1  1  3  1\n",
       "1  1  1  1  1  1  3  2\n",
       "2  1  1  1  1  3  2  1\n",
       "3  1  1  1  1  3  3  2\n",
       "4  1  1  1  2  1  2  1"
      ]
     },
     "execution_count": 20,
     "metadata": {},
     "output_type": "execute_result"
    }
   ],
   "source": [
    "df_robot1=df_robot1.iloc[:,1:8]\n",
    "df_robot1.head()"
   ]
  },
  {
   "cell_type": "code",
   "execution_count": 21,
   "metadata": {},
   "outputs": [
    {
     "data": {
      "text/html": [
       "<div>\n",
       "<style scoped>\n",
       "    .dataframe tbody tr th:only-of-type {\n",
       "        vertical-align: middle;\n",
       "    }\n",
       "\n",
       "    .dataframe tbody tr th {\n",
       "        vertical-align: top;\n",
       "    }\n",
       "\n",
       "    .dataframe thead th {\n",
       "        text-align: right;\n",
       "    }\n",
       "</style>\n",
       "<table border=\"1\" class=\"dataframe\">\n",
       "  <thead>\n",
       "    <tr style=\"text-align: right;\">\n",
       "      <th></th>\n",
       "      <th>2</th>\n",
       "      <th>3</th>\n",
       "      <th>4</th>\n",
       "      <th>5</th>\n",
       "      <th>6</th>\n",
       "      <th>7</th>\n",
       "    </tr>\n",
       "  </thead>\n",
       "  <tbody>\n",
       "    <tr>\n",
       "      <th>0</th>\n",
       "      <td>1</td>\n",
       "      <td>1</td>\n",
       "      <td>1</td>\n",
       "      <td>1</td>\n",
       "      <td>3</td>\n",
       "      <td>1</td>\n",
       "    </tr>\n",
       "    <tr>\n",
       "      <th>1</th>\n",
       "      <td>1</td>\n",
       "      <td>1</td>\n",
       "      <td>1</td>\n",
       "      <td>1</td>\n",
       "      <td>3</td>\n",
       "      <td>2</td>\n",
       "    </tr>\n",
       "    <tr>\n",
       "      <th>2</th>\n",
       "      <td>1</td>\n",
       "      <td>1</td>\n",
       "      <td>1</td>\n",
       "      <td>3</td>\n",
       "      <td>2</td>\n",
       "      <td>1</td>\n",
       "    </tr>\n",
       "    <tr>\n",
       "      <th>3</th>\n",
       "      <td>1</td>\n",
       "      <td>1</td>\n",
       "      <td>1</td>\n",
       "      <td>3</td>\n",
       "      <td>3</td>\n",
       "      <td>2</td>\n",
       "    </tr>\n",
       "    <tr>\n",
       "      <th>4</th>\n",
       "      <td>1</td>\n",
       "      <td>1</td>\n",
       "      <td>2</td>\n",
       "      <td>1</td>\n",
       "      <td>2</td>\n",
       "      <td>1</td>\n",
       "    </tr>\n",
       "  </tbody>\n",
       "</table>\n",
       "</div>"
      ],
      "text/plain": [
       "   2  3  4  5  6  7\n",
       "0  1  1  1  1  3  1\n",
       "1  1  1  1  1  3  2\n",
       "2  1  1  1  3  2  1\n",
       "3  1  1  1  3  3  2\n",
       "4  1  1  2  1  2  1"
      ]
     },
     "execution_count": 21,
     "metadata": {},
     "output_type": "execute_result"
    }
   ],
   "source": [
    "label = df_robot1[1]\n",
    "df_robot1=df_robot1.iloc[:,1:8]\n",
    "df_robot1.head()"
   ]
  },
  {
   "cell_type": "code",
   "execution_count": 22,
   "metadata": {},
   "outputs": [],
   "source": [
    "X_train,X_test,Y_train,Y_test = train_test_split(df_robot1,label,test_size=0.3)"
   ]
  },
  {
   "cell_type": "markdown",
   "metadata": {},
   "source": [
    "##### APPLYING KNN"
   ]
  },
  {
   "cell_type": "code",
   "execution_count": 23,
   "metadata": {},
   "outputs": [
    {
     "name": "stdout",
     "output_type": "stream",
     "text": [
      "             precision    recall  f1-score   support\n",
      "\n",
      "          0       0.75      0.95      0.84        19\n",
      "          1       0.93      0.68      0.79        19\n",
      "\n",
      "avg / total       0.84      0.82      0.81        38\n",
      "\n",
      "Accuracy_score:  0.8157894736842105\n"
     ]
    }
   ],
   "source": [
    "PRED = knn(X_train,Y_train,X_test,k=11,p=2)\n",
    "print(metrics.classification_report(Y_test,PRED))\n",
    "print(\"Accuracy_score: \",accuracy_score(Y_test,PRED))"
   ]
  },
  {
   "cell_type": "code",
   "execution_count": 24,
   "metadata": {},
   "outputs": [
    {
     "name": "stdout",
     "output_type": "stream",
     "text": [
      "             precision    recall  f1-score   support\n",
      "\n",
      "          0       0.81      0.68      0.74        19\n",
      "          1       0.73      0.84      0.78        19\n",
      "\n",
      "avg / total       0.77      0.76      0.76        38\n",
      "\n",
      "Accuracy_score:  0.7631578947368421\n"
     ]
    }
   ],
   "source": [
    "from sklearn.neighbors import KNeighborsClassifier\n",
    "neigh = KNeighborsClassifier(n_neighbors=3)\n",
    "neigh.fit(X_train, Y_train)\n",
    "pred = neigh.predict(X_test)\n",
    "print(metrics.classification_report(Y_test,pred))\n",
    "print(\"Accuracy_score: \",accuracy_score(Y_test,pred))"
   ]
  },
  {
   "cell_type": "markdown",
   "metadata": {},
   "source": [
    "Here my implementation performs almost same or better than the inbuilt sklearn"
   ]
  },
  {
   "cell_type": "code",
   "execution_count": 25,
   "metadata": {},
   "outputs": [],
   "source": [
    "accuracy=[]\n",
    "k_neigh = []\n",
    "for k in range(1,80,2):\n",
    "    pred = knn(X_train,Y_train,X_test,k=k,p=2)\n",
    "    accuracy.append(accuracy_score(Y_test,pred))\n",
    "    k_neigh.append(k)\n"
   ]
  },
  {
   "cell_type": "code",
   "execution_count": 26,
   "metadata": {},
   "outputs": [
    {
     "data": {
      "image/png": "[encoded data removed]",
      "text/plain": [
       "<Figure size 864x576 with 1 Axes>"
      ]
     },
     "metadata": {},
     "output_type": "display_data"
    }
   ],
   "source": [
    "from scipy.interpolate import interp1d\n",
    "import matplotlib.pyplot as plt\n",
    "\n",
    "\n",
    "fig=plt.figure(figsize=(12,8))\n",
    "fig.suptitle(\"accuracy vs k neighbours\")\n",
    "plt.xlabel(\"number of neighbours\")\n",
    "plt.ylabel(\"accuracy\")\n",
    "neigh_new = np.linspace(min(k_neigh), max(k_neigh),200)\n",
    "f1 = interp1d(k_neigh, accuracy, kind='cubic')\n",
    "accuracy_smooth = f1(neigh_new)\n",
    "plt.plot(neigh_new, accuracy_smooth,linestyle='-', color='b',label=\"accuracy\")\n",
    "plt.scatter(k_neigh,accuracy)\n",
    "# plt.plot(k_neigh,accuracy,linestyle='-',color='r',label=\"accuracy\")\n",
    "# plt.scatter(k_neigh,accuracy)\n",
    "plt.legend()\n",
    "plt.show()"
   ]
  },
  {
   "cell_type": "markdown",
   "metadata": {},
   "source": [
    "##### as number of k increases after a certain limit it underfits... and if k is too small it will overfit"
   ]
  },
  {
   "cell_type": "markdown",
   "metadata": {},
   "source": [
    "### Question 2"
   ]
  },
  {
   "cell_type": "code",
   "execution_count": 27,
   "metadata": {},
   "outputs": [
    {
     "data": {
      "text/html": [
       "<div>\n",
       "<style scoped>\n",
       "    .dataframe tbody tr th:only-of-type {\n",
       "        vertical-align: middle;\n",
       "    }\n",
       "\n",
       "    .dataframe tbody tr th {\n",
       "        vertical-align: top;\n",
       "    }\n",
       "\n",
       "    .dataframe thead th {\n",
       "        text-align: right;\n",
       "    }\n",
       "</style>\n",
       "<table border=\"1\" class=\"dataframe\">\n",
       "  <thead>\n",
       "    <tr style=\"text-align: right;\">\n",
       "      <th></th>\n",
       "      <th>0</th>\n",
       "      <th>1</th>\n",
       "      <th>2</th>\n",
       "      <th>3</th>\n",
       "      <th>4</th>\n",
       "      <th>5</th>\n",
       "      <th>6</th>\n",
       "      <th>7</th>\n",
       "      <th>8</th>\n",
       "      <th>9</th>\n",
       "      <th>10</th>\n",
       "      <th>11</th>\n",
       "      <th>12</th>\n",
       "      <th>13</th>\n",
       "    </tr>\n",
       "  </thead>\n",
       "  <tbody>\n",
       "    <tr>\n",
       "      <th>0</th>\n",
       "      <td>1</td>\n",
       "      <td>25</td>\n",
       "      <td>1.1</td>\n",
       "      <td>49</td>\n",
       "      <td>91107</td>\n",
       "      <td>4</td>\n",
       "      <td>1.6</td>\n",
       "      <td>1</td>\n",
       "      <td>0</td>\n",
       "      <td>0</td>\n",
       "      <td>1.3</td>\n",
       "      <td>0.2</td>\n",
       "      <td>0.3</td>\n",
       "      <td>0.4</td>\n",
       "    </tr>\n",
       "    <tr>\n",
       "      <th>1</th>\n",
       "      <td>2701</td>\n",
       "      <td>31</td>\n",
       "      <td>5.0</td>\n",
       "      <td>39</td>\n",
       "      <td>94590</td>\n",
       "      <td>4</td>\n",
       "      <td>2.2</td>\n",
       "      <td>2</td>\n",
       "      <td>0</td>\n",
       "      <td>0</td>\n",
       "      <td>0.0</td>\n",
       "      <td>0.0</td>\n",
       "      <td>1.0</td>\n",
       "      <td>1.0</td>\n",
       "    </tr>\n",
       "    <tr>\n",
       "      <th>2</th>\n",
       "      <td>2716</td>\n",
       "      <td>42</td>\n",
       "      <td>18.0</td>\n",
       "      <td>54</td>\n",
       "      <td>90089</td>\n",
       "      <td>1</td>\n",
       "      <td>1.8</td>\n",
       "      <td>1</td>\n",
       "      <td>0</td>\n",
       "      <td>0</td>\n",
       "      <td>0.0</td>\n",
       "      <td>0.0</td>\n",
       "      <td>1.0</td>\n",
       "      <td>0.0</td>\n",
       "    </tr>\n",
       "    <tr>\n",
       "      <th>3</th>\n",
       "      <td>3359</td>\n",
       "      <td>59</td>\n",
       "      <td>35.0</td>\n",
       "      <td>40</td>\n",
       "      <td>94536</td>\n",
       "      <td>4</td>\n",
       "      <td>0.4</td>\n",
       "      <td>1</td>\n",
       "      <td>0</td>\n",
       "      <td>0</td>\n",
       "      <td>0.0</td>\n",
       "      <td>0.0</td>\n",
       "      <td>0.0</td>\n",
       "      <td>0.0</td>\n",
       "    </tr>\n",
       "    <tr>\n",
       "      <th>4</th>\n",
       "      <td>2492</td>\n",
       "      <td>38</td>\n",
       "      <td>14.0</td>\n",
       "      <td>80</td>\n",
       "      <td>92868</td>\n",
       "      <td>2</td>\n",
       "      <td>2.7</td>\n",
       "      <td>1</td>\n",
       "      <td>0</td>\n",
       "      <td>0</td>\n",
       "      <td>0.0</td>\n",
       "      <td>0.0</td>\n",
       "      <td>1.0</td>\n",
       "      <td>0.0</td>\n",
       "    </tr>\n",
       "  </tbody>\n",
       "</table>\n",
       "</div>"
      ],
      "text/plain": [
       "     0   1     2   3      4   5    6   7   8   9    10   11   12   13\n",
       "0     1  25   1.1  49  91107   4  1.6   1   0   0  1.3  0.2  0.3  0.4\n",
       "1  2701  31   5.0  39  94590   4  2.2   2   0   0  0.0  0.0  1.0  1.0\n",
       "2  2716  42  18.0  54  90089   1  1.8   1   0   0  0.0  0.0  1.0  0.0\n",
       "3  3359  59  35.0  40  94536   4  0.4   1   0   0  0.0  0.0  0.0  0.0\n",
       "4  2492  38  14.0  80  92868   2  2.7   1   0   0  0.0  0.0  1.0  0.0"
      ]
     },
     "execution_count": 27,
     "metadata": {},
     "output_type": "execute_result"
    }
   ],
   "source": [
    "#load the dataset\n",
    "import pandas as pd\n",
    "df_loan = pd.read_csv(\"LoanDataset/data.csv\",header=None)\n",
    "df_loan.head()"
   ]
  },
  {
   "cell_type": "code",
   "execution_count": 28,
   "metadata": {},
   "outputs": [
    {
     "data": {
      "text/plain": [
       "0    4066\n",
       "1     434\n",
       "Name: 9, dtype: int64"
      ]
     },
     "execution_count": 28,
     "metadata": {},
     "output_type": "execute_result"
    }
   ],
   "source": [
    "df_loan[9].value_counts()"
   ]
  },
  {
   "cell_type": "code",
   "execution_count": 29,
   "metadata": {},
   "outputs": [],
   "source": [
    "#removing the first row of the dataset as it contains wrong information\n",
    "df_loan = df_loan.drop(df_loan.index[0])"
   ]
  },
  {
   "cell_type": "code",
   "execution_count": 30,
   "metadata": {},
   "outputs": [],
   "source": [
    "Y_label = df_loan[9]\n",
    "del df_loan[9]\n",
    "del df_loan[0]           #id is unique and it is not useful for any prediction"
   ]
  },
  {
   "cell_type": "code",
   "execution_count": 31,
   "metadata": {},
   "outputs": [
    {
     "data": {
      "text/html": [
       "<div>\n",
       "<style scoped>\n",
       "    .dataframe tbody tr th:only-of-type {\n",
       "        vertical-align: middle;\n",
       "    }\n",
       "\n",
       "    .dataframe tbody tr th {\n",
       "        vertical-align: top;\n",
       "    }\n",
       "\n",
       "    .dataframe thead th {\n",
       "        text-align: right;\n",
       "    }\n",
       "</style>\n",
       "<table border=\"1\" class=\"dataframe\">\n",
       "  <thead>\n",
       "    <tr style=\"text-align: right;\">\n",
       "      <th></th>\n",
       "      <th>1</th>\n",
       "      <th>2</th>\n",
       "      <th>3</th>\n",
       "      <th>4</th>\n",
       "      <th>5</th>\n",
       "      <th>6</th>\n",
       "      <th>7</th>\n",
       "      <th>8</th>\n",
       "      <th>10</th>\n",
       "      <th>11</th>\n",
       "      <th>12</th>\n",
       "      <th>13</th>\n",
       "    </tr>\n",
       "  </thead>\n",
       "  <tbody>\n",
       "    <tr>\n",
       "      <th>1</th>\n",
       "      <td>31</td>\n",
       "      <td>5.0</td>\n",
       "      <td>39</td>\n",
       "      <td>94590</td>\n",
       "      <td>4</td>\n",
       "      <td>2.2</td>\n",
       "      <td>2</td>\n",
       "      <td>0</td>\n",
       "      <td>0.0</td>\n",
       "      <td>0.0</td>\n",
       "      <td>1.0</td>\n",
       "      <td>1.0</td>\n",
       "    </tr>\n",
       "    <tr>\n",
       "      <th>2</th>\n",
       "      <td>42</td>\n",
       "      <td>18.0</td>\n",
       "      <td>54</td>\n",
       "      <td>90089</td>\n",
       "      <td>1</td>\n",
       "      <td>1.8</td>\n",
       "      <td>1</td>\n",
       "      <td>0</td>\n",
       "      <td>0.0</td>\n",
       "      <td>0.0</td>\n",
       "      <td>1.0</td>\n",
       "      <td>0.0</td>\n",
       "    </tr>\n",
       "    <tr>\n",
       "      <th>3</th>\n",
       "      <td>59</td>\n",
       "      <td>35.0</td>\n",
       "      <td>40</td>\n",
       "      <td>94536</td>\n",
       "      <td>4</td>\n",
       "      <td>0.4</td>\n",
       "      <td>1</td>\n",
       "      <td>0</td>\n",
       "      <td>0.0</td>\n",
       "      <td>0.0</td>\n",
       "      <td>0.0</td>\n",
       "      <td>0.0</td>\n",
       "    </tr>\n",
       "    <tr>\n",
       "      <th>4</th>\n",
       "      <td>38</td>\n",
       "      <td>14.0</td>\n",
       "      <td>80</td>\n",
       "      <td>92868</td>\n",
       "      <td>2</td>\n",
       "      <td>2.7</td>\n",
       "      <td>1</td>\n",
       "      <td>0</td>\n",
       "      <td>0.0</td>\n",
       "      <td>0.0</td>\n",
       "      <td>1.0</td>\n",
       "      <td>0.0</td>\n",
       "    </tr>\n",
       "    <tr>\n",
       "      <th>5</th>\n",
       "      <td>62</td>\n",
       "      <td>32.0</td>\n",
       "      <td>19</td>\n",
       "      <td>92109</td>\n",
       "      <td>1</td>\n",
       "      <td>1.5</td>\n",
       "      <td>3</td>\n",
       "      <td>0</td>\n",
       "      <td>1.0</td>\n",
       "      <td>0.0</td>\n",
       "      <td>0.0</td>\n",
       "      <td>0.0</td>\n",
       "    </tr>\n",
       "  </tbody>\n",
       "</table>\n",
       "</div>"
      ],
      "text/plain": [
       "   1     2   3      4   5    6   7   8    10   11   12   13\n",
       "1  31   5.0  39  94590   4  2.2   2   0  0.0  0.0  1.0  1.0\n",
       "2  42  18.0  54  90089   1  1.8   1   0  0.0  0.0  1.0  0.0\n",
       "3  59  35.0  40  94536   4  0.4   1   0  0.0  0.0  0.0  0.0\n",
       "4  38  14.0  80  92868   2  2.7   1   0  0.0  0.0  1.0  0.0\n",
       "5  62  32.0  19  92109   1  1.5   3   0  1.0  0.0  0.0  0.0"
      ]
     },
     "execution_count": 31,
     "metadata": {},
     "output_type": "execute_result"
    }
   ],
   "source": [
    "df_loan.head()"
   ]
  },
  {
   "cell_type": "code",
   "execution_count": 32,
   "metadata": {},
   "outputs": [],
   "source": [
    "from sklearn.model_selection import train_test_split\n",
    "X_train,X_test,Y_train,Y_test = train_test_split(df_loan,Y_label,test_size=0.2)\n"
   ]
  },
  {
   "cell_type": "code",
   "execution_count": 33,
   "metadata": {},
   "outputs": [
    {
     "name": "stdout",
     "output_type": "stream",
     "text": [
      "(3599, 12)\n",
      "(900, 12)\n",
      "(3599,)\n",
      "(900,)\n"
     ]
    }
   ],
   "source": [
    "print(X_train.shape)\n",
    "print(X_test.shape)\n",
    "print(Y_train.shape)\n",
    "print(Y_test.shape)"
   ]
  },
  {
   "cell_type": "code",
   "execution_count": 34,
   "metadata": {},
   "outputs": [
    {
     "data": {
      "text/html": [
       "<div>\n",
       "<style scoped>\n",
       "    .dataframe tbody tr th:only-of-type {\n",
       "        vertical-align: middle;\n",
       "    }\n",
       "\n",
       "    .dataframe tbody tr th {\n",
       "        vertical-align: top;\n",
       "    }\n",
       "\n",
       "    .dataframe thead th {\n",
       "        text-align: right;\n",
       "    }\n",
       "</style>\n",
       "<table border=\"1\" class=\"dataframe\">\n",
       "  <thead>\n",
       "    <tr style=\"text-align: right;\">\n",
       "      <th></th>\n",
       "      <th>1</th>\n",
       "      <th>2</th>\n",
       "      <th>3</th>\n",
       "      <th>4</th>\n",
       "      <th>5</th>\n",
       "      <th>6</th>\n",
       "      <th>7</th>\n",
       "      <th>8</th>\n",
       "      <th>10</th>\n",
       "      <th>11</th>\n",
       "      <th>12</th>\n",
       "      <th>13</th>\n",
       "    </tr>\n",
       "  </thead>\n",
       "  <tbody>\n",
       "    <tr>\n",
       "      <th>1524</th>\n",
       "      <td>51</td>\n",
       "      <td>26.0</td>\n",
       "      <td>98</td>\n",
       "      <td>90024</td>\n",
       "      <td>1</td>\n",
       "      <td>1.3</td>\n",
       "      <td>3</td>\n",
       "      <td>0</td>\n",
       "      <td>0.0</td>\n",
       "      <td>0.0</td>\n",
       "      <td>1.0</td>\n",
       "      <td>1.0</td>\n",
       "    </tr>\n",
       "    <tr>\n",
       "      <th>4423</th>\n",
       "      <td>56</td>\n",
       "      <td>32.0</td>\n",
       "      <td>103</td>\n",
       "      <td>94111</td>\n",
       "      <td>3</td>\n",
       "      <td>4.0</td>\n",
       "      <td>3</td>\n",
       "      <td>0</td>\n",
       "      <td>0.0</td>\n",
       "      <td>0.0</td>\n",
       "      <td>0.0</td>\n",
       "      <td>0.0</td>\n",
       "    </tr>\n",
       "    <tr>\n",
       "      <th>3488</th>\n",
       "      <td>28</td>\n",
       "      <td>4.0</td>\n",
       "      <td>94</td>\n",
       "      <td>92115</td>\n",
       "      <td>3</td>\n",
       "      <td>0.8</td>\n",
       "      <td>1</td>\n",
       "      <td>236</td>\n",
       "      <td>0.0</td>\n",
       "      <td>0.0</td>\n",
       "      <td>1.0</td>\n",
       "      <td>0.0</td>\n",
       "    </tr>\n",
       "    <tr>\n",
       "      <th>213</th>\n",
       "      <td>26</td>\n",
       "      <td>0.0</td>\n",
       "      <td>42</td>\n",
       "      <td>92009</td>\n",
       "      <td>4</td>\n",
       "      <td>1.3</td>\n",
       "      <td>3</td>\n",
       "      <td>153</td>\n",
       "      <td>0.0</td>\n",
       "      <td>0.0</td>\n",
       "      <td>1.0</td>\n",
       "      <td>0.0</td>\n",
       "    </tr>\n",
       "    <tr>\n",
       "      <th>2145</th>\n",
       "      <td>31</td>\n",
       "      <td>6.0</td>\n",
       "      <td>44</td>\n",
       "      <td>95616</td>\n",
       "      <td>4</td>\n",
       "      <td>0.8</td>\n",
       "      <td>1</td>\n",
       "      <td>122</td>\n",
       "      <td>0.0</td>\n",
       "      <td>0.0</td>\n",
       "      <td>1.0</td>\n",
       "      <td>0.0</td>\n",
       "    </tr>\n",
       "  </tbody>\n",
       "</table>\n",
       "</div>"
      ],
      "text/plain": [
       "      1     2    3      4   5    6   7    8    10   11   12   13\n",
       "1524  51  26.0   98  90024   1  1.3   3    0  0.0  0.0  1.0  1.0\n",
       "4423  56  32.0  103  94111   3  4.0   3    0  0.0  0.0  0.0  0.0\n",
       "3488  28   4.0   94  92115   3  0.8   1  236  0.0  0.0  1.0  0.0\n",
       "213   26   0.0   42  92009   4  1.3   3  153  0.0  0.0  1.0  0.0\n",
       "2145  31   6.0   44  95616   4  0.8   1  122  0.0  0.0  1.0  0.0"
      ]
     },
     "execution_count": 34,
     "metadata": {},
     "output_type": "execute_result"
    }
   ],
   "source": [
    "X_train.head()"
   ]
  },
  {
   "cell_type": "code",
   "execution_count": 35,
   "metadata": {},
   "outputs": [],
   "source": [
    "#1 for numerical and 0 to recognise categorical\n",
    "attr_detail = [1,1,1,1,1,1,1,1,0,0,0,0]"
   ]
  },
  {
   "cell_type": "code",
   "execution_count": 36,
   "metadata": {},
   "outputs": [
    {
     "data": {
      "text/html": [
       "<div>\n",
       "<style scoped>\n",
       "    .dataframe tbody tr th:only-of-type {\n",
       "        vertical-align: middle;\n",
       "    }\n",
       "\n",
       "    .dataframe tbody tr th {\n",
       "        vertical-align: top;\n",
       "    }\n",
       "\n",
       "    .dataframe thead th {\n",
       "        text-align: right;\n",
       "    }\n",
       "</style>\n",
       "<table border=\"1\" class=\"dataframe\">\n",
       "  <thead>\n",
       "    <tr style=\"text-align: right;\">\n",
       "      <th></th>\n",
       "      <th>1</th>\n",
       "      <th>2</th>\n",
       "      <th>3</th>\n",
       "      <th>4</th>\n",
       "      <th>5</th>\n",
       "      <th>6</th>\n",
       "      <th>7</th>\n",
       "      <th>8</th>\n",
       "      <th>10</th>\n",
       "      <th>11</th>\n",
       "      <th>12</th>\n",
       "      <th>13</th>\n",
       "    </tr>\n",
       "  </thead>\n",
       "  <tbody>\n",
       "    <tr>\n",
       "      <th>1714</th>\n",
       "      <td>27</td>\n",
       "      <td>2.0</td>\n",
       "      <td>158</td>\n",
       "      <td>95060</td>\n",
       "      <td>3</td>\n",
       "      <td>0.4</td>\n",
       "      <td>2</td>\n",
       "      <td>0</td>\n",
       "      <td>0.0</td>\n",
       "      <td>1.0</td>\n",
       "      <td>1.0</td>\n",
       "      <td>0.0</td>\n",
       "    </tr>\n",
       "    <tr>\n",
       "      <th>3214</th>\n",
       "      <td>29</td>\n",
       "      <td>4.0</td>\n",
       "      <td>120</td>\n",
       "      <td>94553</td>\n",
       "      <td>1</td>\n",
       "      <td>4.1</td>\n",
       "      <td>2</td>\n",
       "      <td>0</td>\n",
       "      <td>1.0</td>\n",
       "      <td>1.0</td>\n",
       "      <td>0.0</td>\n",
       "      <td>1.0</td>\n",
       "    </tr>\n",
       "    <tr>\n",
       "      <th>878</th>\n",
       "      <td>52</td>\n",
       "      <td>26.0</td>\n",
       "      <td>109</td>\n",
       "      <td>94710</td>\n",
       "      <td>1</td>\n",
       "      <td>2.4</td>\n",
       "      <td>1</td>\n",
       "      <td>308</td>\n",
       "      <td>0.0</td>\n",
       "      <td>1.0</td>\n",
       "      <td>1.0</td>\n",
       "      <td>1.0</td>\n",
       "    </tr>\n",
       "    <tr>\n",
       "      <th>4389</th>\n",
       "      <td>58</td>\n",
       "      <td>32.0</td>\n",
       "      <td>85</td>\n",
       "      <td>92110</td>\n",
       "      <td>2</td>\n",
       "      <td>2.0</td>\n",
       "      <td>1</td>\n",
       "      <td>161</td>\n",
       "      <td>1.0</td>\n",
       "      <td>1.0</td>\n",
       "      <td>1.0</td>\n",
       "      <td>1.0</td>\n",
       "    </tr>\n",
       "    <tr>\n",
       "      <th>2899</th>\n",
       "      <td>56</td>\n",
       "      <td>32.0</td>\n",
       "      <td>125</td>\n",
       "      <td>91330</td>\n",
       "      <td>3</td>\n",
       "      <td>0.6</td>\n",
       "      <td>1</td>\n",
       "      <td>342</td>\n",
       "      <td>0.0</td>\n",
       "      <td>1.0</td>\n",
       "      <td>1.0</td>\n",
       "      <td>1.0</td>\n",
       "    </tr>\n",
       "  </tbody>\n",
       "</table>\n",
       "</div>"
      ],
      "text/plain": [
       "      1     2    3      4   5    6   7    8    10   11   12   13\n",
       "1714  27   2.0  158  95060   3  0.4   2    0  0.0  1.0  1.0  0.0\n",
       "3214  29   4.0  120  94553   1  4.1   2    0  1.0  1.0  0.0  1.0\n",
       "878   52  26.0  109  94710   1  2.4   1  308  0.0  1.0  1.0  1.0\n",
       "4389  58  32.0   85  92110   2  2.0   1  161  1.0  1.0  1.0  1.0\n",
       "2899  56  32.0  125  91330   3  0.6   1  342  0.0  1.0  1.0  1.0"
      ]
     },
     "execution_count": 36,
     "metadata": {},
     "output_type": "execute_result"
    }
   ],
   "source": [
    "df = X_train[X_train[11]==1]\n",
    "df.head()"
   ]
  },
  {
   "cell_type": "code",
   "execution_count": 37,
   "metadata": {},
   "outputs": [
    {
     "data": {
      "text/plain": [
       "3"
      ]
     },
     "execution_count": 37,
     "metadata": {},
     "output_type": "execute_result"
    }
   ],
   "source": [
    "d={'x':1,'y':2,'z':3}\n",
    "len(d.keys())"
   ]
  },
  {
   "cell_type": "code",
   "execution_count": 38,
   "metadata": {},
   "outputs": [],
   "source": [
    "from statistics import mean\n",
    "from statistics import stdev\n",
    "from scipy.stats import norm\n",
    "def predict(train_result,prob_classes,test_point):\n",
    "    class_prob={}\n",
    "    for key,value in train_result.items():\n",
    "        class_prob[key]=1\n",
    "        for i in range(len(test_point)):\n",
    "            if type(value[i]) == dict:\n",
    "                if test_point[i] in value[i].keys():\n",
    "                    prob = value[i][test_point[i]]\n",
    "                else:\n",
    "                    prob=1/(len(value[i].keys()))\n",
    "            else:\n",
    "                mean,std = value[i]\n",
    "                prob = norm(mean,std).pdf(test_point[i])\n",
    "            class_prob[key] *= prob\n",
    "    for key ,value in class_prob.items():\n",
    "        class_prob[key] *= prob_classes[key]\n",
    "    max_prob=0\n",
    "    for key, value in class_prob.items():\n",
    "        if max_prob < value:\n",
    "            max_prob=value\n",
    "            predicted_class=key\n",
    "            \n",
    "    return predicted_class\n",
    "            \n",
    "        \n",
    "                \n",
    "    \n",
    "    \n",
    "    \n",
    "def NBclassifier(X_train,Y_train,X_test,attribute_detail=[]):\n",
    "    if len(attribute_detail)==0:\n",
    "        attribute_detail=[1 for i in range(X_train.shape[1])]\n",
    "    X_train = X_train.assign(label = Y_train)\n",
    "    target_variables = X_train[\"label\"].unique()\n",
    "    prob_classes={}\n",
    "    train_result={}\n",
    "    for target_variable in target_variables:\n",
    "        subtable = X_train[X_train[\"label\"]==target_variable]\n",
    "        prob_ck = subtable.shape[1]/X_train.shape[1]\n",
    "        prob_classes[target_variable]=prob_ck\n",
    "        train_result[target_variable]={}\n",
    "        for i in range(len(attribute_detail)):\n",
    "            if attribute_detail[i]==1:\n",
    "                mean_value = mean(subtable[subtable.columns[i]])\n",
    "                stdev_value = stdev(subtable[subtable.columns[i]])\n",
    "                train_result[target_variable][i]=(mean_value,stdev_value)\n",
    "            if attribute_detail[i]==0:\n",
    "                if i not in train_result[target_variable].keys():\n",
    "                    train_result[target_variable][i]={}\n",
    "                categories = subtable[subtable.columns[i]].unique()\n",
    "                for category in categories:\n",
    "                    num = len(subtable[subtable[subtable.columns[i]]==category])\n",
    "                    den = subtable.shape[0]\n",
    "                    prob_likelyhood = (num)/(den)\n",
    "                    train_result[target_variable][i][category] = prob_likelyhood\n",
    "#     return train_result\n",
    "    predictions=[]\n",
    "    X_test_list = X_test.values.tolist()\n",
    "    for row in X_test_list:\n",
    "        predictions.append(predict(train_result,prob_classes,row))\n",
    "    return predictions         \n",
    "            "
   ]
  },
  {
   "cell_type": "code",
   "execution_count": 39,
   "metadata": {},
   "outputs": [],
   "source": [
    "pred = NBclassifier(X_train,Y_train,X_test)"
   ]
  },
  {
   "cell_type": "code",
   "execution_count": 40,
   "metadata": {},
   "outputs": [
    {
     "name": "stdout",
     "output_type": "stream",
     "text": [
      "             precision    recall  f1-score   support\n",
      "\n",
      "          0       0.97      0.88      0.93       811\n",
      "          1       0.42      0.76      0.54        89\n",
      "\n",
      "avg / total       0.92      0.87      0.89       900\n",
      "\n"
     ]
    }
   ],
   "source": [
    "from sklearn import metrics\n",
    "print(metrics.classification_report(Y_test,pred))"
   ]
  },
  {
   "cell_type": "code",
   "execution_count": 41,
   "metadata": {},
   "outputs": [
    {
     "name": "stdout",
     "output_type": "stream",
     "text": [
      "accuracy_score: 0.8722222222222222\n"
     ]
    }
   ],
   "source": [
    "from sklearn.metrics import accuracy_score\n",
    "print(\"accuracy_score:\",accuracy_score(Y_test,pred))"
   ]
  },
  {
   "cell_type": "code",
   "execution_count": 42,
   "metadata": {},
   "outputs": [],
   "source": [
    "from sklearn.naive_bayes import GaussianNB\n",
    "clf=GaussianNB()\n",
    "clf.fit(X_train,Y_train)\n",
    "pred = clf.predict(X_test)"
   ]
  },
  {
   "cell_type": "code",
   "execution_count": 43,
   "metadata": {},
   "outputs": [
    {
     "name": "stdout",
     "output_type": "stream",
     "text": [
      "accuracy_score: 0.8955555555555555\n"
     ]
    }
   ],
   "source": [
    "print(\"accuracy_score:\",accuracy_score(Y_test,pred))"
   ]
  },
  {
   "cell_type": "markdown",
   "metadata": {},
   "source": [
    "### Question-3"
   ]
  },
  {
   "cell_type": "code",
   "execution_count": 44,
   "metadata": {},
   "outputs": [
    {
     "data": {
      "text/html": [
       "<div>\n",
       "<style scoped>\n",
       "    .dataframe tbody tr th:only-of-type {\n",
       "        vertical-align: middle;\n",
       "    }\n",
       "\n",
       "    .dataframe tbody tr th {\n",
       "        vertical-align: top;\n",
       "    }\n",
       "\n",
       "    .dataframe thead th {\n",
       "        text-align: right;\n",
       "    }\n",
       "</style>\n",
       "<table border=\"1\" class=\"dataframe\">\n",
       "  <thead>\n",
       "    <tr style=\"text-align: right;\">\n",
       "      <th></th>\n",
       "      <th>Serial No.</th>\n",
       "      <th>GRE Score</th>\n",
       "      <th>TOEFL Score</th>\n",
       "      <th>University Rating</th>\n",
       "      <th>SOP</th>\n",
       "      <th>LOR</th>\n",
       "      <th>CGPA</th>\n",
       "      <th>Research</th>\n",
       "      <th>Chance of Admit</th>\n",
       "    </tr>\n",
       "  </thead>\n",
       "  <tbody>\n",
       "    <tr>\n",
       "      <th>0</th>\n",
       "      <td>242</td>\n",
       "      <td>317</td>\n",
       "      <td>103</td>\n",
       "      <td>2</td>\n",
       "      <td>2.5</td>\n",
       "      <td>2.0</td>\n",
       "      <td>8.15</td>\n",
       "      <td>0</td>\n",
       "      <td>0.65</td>\n",
       "    </tr>\n",
       "    <tr>\n",
       "      <th>1</th>\n",
       "      <td>334</td>\n",
       "      <td>319</td>\n",
       "      <td>108</td>\n",
       "      <td>3</td>\n",
       "      <td>3.0</td>\n",
       "      <td>3.5</td>\n",
       "      <td>8.54</td>\n",
       "      <td>1</td>\n",
       "      <td>0.71</td>\n",
       "    </tr>\n",
       "    <tr>\n",
       "      <th>2</th>\n",
       "      <td>4</td>\n",
       "      <td>322</td>\n",
       "      <td>110</td>\n",
       "      <td>3</td>\n",
       "      <td>3.5</td>\n",
       "      <td>2.5</td>\n",
       "      <td>8.67</td>\n",
       "      <td>1</td>\n",
       "      <td>0.80</td>\n",
       "    </tr>\n",
       "    <tr>\n",
       "      <th>3</th>\n",
       "      <td>45</td>\n",
       "      <td>326</td>\n",
       "      <td>113</td>\n",
       "      <td>5</td>\n",
       "      <td>4.5</td>\n",
       "      <td>4.0</td>\n",
       "      <td>9.40</td>\n",
       "      <td>1</td>\n",
       "      <td>0.91</td>\n",
       "    </tr>\n",
       "    <tr>\n",
       "      <th>4</th>\n",
       "      <td>232</td>\n",
       "      <td>319</td>\n",
       "      <td>106</td>\n",
       "      <td>3</td>\n",
       "      <td>3.5</td>\n",
       "      <td>2.5</td>\n",
       "      <td>8.33</td>\n",
       "      <td>1</td>\n",
       "      <td>0.74</td>\n",
       "    </tr>\n",
       "  </tbody>\n",
       "</table>\n",
       "</div>"
      ],
      "text/plain": [
       "   Serial No.  GRE Score  TOEFL Score  University Rating  SOP  LOR   CGPA  \\\n",
       "0         242        317          103                  2  2.5   2.0  8.15   \n",
       "1         334        319          108                  3  3.0   3.5  8.54   \n",
       "2           4        322          110                  3  3.5   2.5  8.67   \n",
       "3          45        326          113                  5  4.5   4.0  9.40   \n",
       "4         232        319          106                  3  3.5   2.5  8.33   \n",
       "\n",
       "   Research  Chance of Admit   \n",
       "0         0              0.65  \n",
       "1         1              0.71  \n",
       "2         1              0.80  \n",
       "3         1              0.91  \n",
       "4         1              0.74  "
      ]
     },
     "execution_count": 44,
     "metadata": {},
     "output_type": "execute_result"
    }
   ],
   "source": [
    "import pandas as pd\n",
    "df_admission = pd.read_csv(\"AdmissionDataset/Data.csv\")\n",
    "df_admission.head()"
   ]
  },
  {
   "cell_type": "markdown",
   "metadata": {},
   "source": [
    "The dataset looks like clean and the Target variable is \"Chance of Admit\"."
   ]
  },
  {
   "cell_type": "code",
   "execution_count": 45,
   "metadata": {},
   "outputs": [],
   "source": [
    "target = df_admission[\"Chance of Admit \"]\n",
    "del df_admission[\"Chance of Admit \"]\n",
    "# del df_admission[\"Serial No.\"]"
   ]
  },
  {
   "cell_type": "code",
   "execution_count": 46,
   "metadata": {},
   "outputs": [
    {
     "name": "stdout",
     "output_type": "stream",
     "text": [
      "X_train shape:  (360, 8)\n",
      "X_test shape:  (90, 8)\n",
      "Y_train shape:  (360,)\n",
      "Y_test shape:  (90,)\n"
     ]
    }
   ],
   "source": [
    "from sklearn.model_selection import train_test_split\n",
    "X_train,X_test,Y_train,Y_test = train_test_split(df_admission,target,test_size=0.2)\n",
    "print(\"X_train shape: \",X_train.shape)\n",
    "print(\"X_test shape: \",X_test.shape)\n",
    "print(\"Y_train shape: \",Y_train.shape)\n",
    "print(\"Y_test shape: \",Y_test.shape)"
   ]
  },
  {
   "cell_type": "markdown",
   "metadata": {},
   "source": [
    "### Building Linear Regression from Scratch"
   ]
  },
  {
   "cell_type": "code",
   "execution_count": 47,
   "metadata": {},
   "outputs": [],
   "source": [
    "import numpy as np\n",
    "def standardization(dataframe):\n",
    "    mean=dataframe.mean()\n",
    "    std = dataframe.std()\n",
    "    dataframe = (dataframe-dataframe.mean())/dataframe.std()\n",
    "    return dataframe,mean,std\n",
    "def LinearRegression(X_train,Y_train,learn_rate=0.1):\n",
    "    X_train,mean,std = standardization(X_train)\n",
    "\n",
    "    W = np.random.rand(X_train.shape[1]+1,)\n",
    "    X_train.insert(0,1,1)\n",
    "    Y_pred=[]\n",
    "    Y_pred = X_train.dot(W.T)\n",
    "    loss = 0.5 * (1/X_train.shape[0])*np.sum((Y_train-Y_pred)**2)\n",
    "    new_loss =float('inf')\n",
    "    while(new_loss != loss):\n",
    "        loss = new_loss\n",
    "        W = W - (learn_rate/X_train.shape[0])*np.dot(X_train.T, Y_pred - Y_train)\n",
    "        Y_pred = X_train.dot(W.T)\n",
    "        new_loss = 0.5 *(1/X_train.shape[0])* np.sum((Y_train-Y_pred)**2)\n",
    "    return W,mean,std\n",
    "def predict(X_test,W_vec,mean,std):\n",
    "    X_test=(X_test-mean)/std\n",
    "    X_test.insert(0,1,1)\n",
    "    Y_pred=[]\n",
    "    Y_pred = np.round(X_test.dot(W_vec.T),2)\n",
    "    return Y_pred"
   ]
  },
  {
   "cell_type": "code",
   "execution_count": 48,
   "metadata": {},
   "outputs": [],
   "source": [
    "W_vec,mean,std = LinearRegression(X_train,Y_train)\n",
    "Y_pred = predict(X_test,W_vec,mean,std)\n"
   ]
  },
  {
   "cell_type": "code",
   "execution_count": 49,
   "metadata": {},
   "outputs": [
    {
     "name": "stdout",
     "output_type": "stream",
     "text": [
      "accuracy_score 0.8197651821550752\n"
     ]
    }
   ],
   "source": [
    "from sklearn.metrics import r2_score\n",
    "print(\"accuracy_score\",r2_score(Y_pred,Y_test))"
   ]
  },
  {
   "cell_type": "code",
   "execution_count": 50,
   "metadata": {},
   "outputs": [
    {
     "data": {
      "image/png": "[encoded data removed]",
      "text/plain": [
       "<Figure size 432x288 with 1 Axes>"
      ]
     },
     "metadata": {},
     "output_type": "display_data"
    }
   ],
   "source": [
    "import matplotlib.pyplot as plt\n",
    "plt.scatter(Y_test,Y_pred)\n",
    "\n",
    "\n",
    "\n",
    "plt.show()"
   ]
  },
  {
   "cell_type": "markdown",
   "metadata": {},
   "source": [
    "#### Question 3.2"
   ]
  },
  {
   "cell_type": "code",
   "execution_count": 52,
   "metadata": {},
   "outputs": [
    {
     "name": "stdout",
     "output_type": "stream",
     "text": [
      "mean squared error:  0.0014455555555555556\n"
     ]
    }
   ],
   "source": [
    "mse = (0.5/X_test.shape[0])*np.sum((Y_pred-Y_test)**2)\n",
    "print(\"mean squared error: \",mse)"
   ]
  },
  {
   "cell_type": "code",
   "execution_count": 55,
   "metadata": {},
   "outputs": [
    {
     "name": "stdout",
     "output_type": "stream",
     "text": [
      "mean absolute error: 0.038\n"
     ]
    }
   ],
   "source": [
    "mae = (1/X_test.shape[0])*np.sum(abs(Y_pred-Y_test))\n",
    "print(\"mean absolute error:\",mae)"
   ]
  },
  {
   "cell_type": "code",
   "execution_count": 56,
   "metadata": {},
   "outputs": [
    {
     "name": "stdout",
     "output_type": "stream",
     "text": [
      "mpe : 0.015948206713120548\n"
     ]
    }
   ],
   "source": [
    "mpe = (1/X_test.shape[0])*np.sum((Y_pred-Y_test)/Y_test)\n",
    "print(\"mpe :\",mpe)"
   ]
  },
  {
   "cell_type": "markdown",
   "metadata": {},
   "source": [
    "### Question 3.3"
   ]
  },
  {
   "cell_type": "code",
   "execution_count": 60,
   "metadata": {},
   "outputs": [
    {
     "data": {
      "text/plain": [
       "<matplotlib.axes._subplots.AxesSubplot at 0x1f9d21a4b00>"
      ]
     },
     "execution_count": 60,
     "metadata": {},
     "output_type": "execute_result"
    },
    {
     "data": {
      "image/png": "[encoded data removed]",
      "text/plain": [
       "<Figure size 432x288 with 1 Axes>"
      ]
     },
     "metadata": {},
     "output_type": "display_data"
    }
   ],
   "source": [
    "import seaborn as sns\n",
    "sns.residplot(Y_test,Y_pred-Y_test,lowess=True, color='r')"
   ]
  },
  {
   "cell_type": "markdown",
   "metadata": {},
   "source": [
    "From the plot we can observe that if the probability of admit is high then the error in prediction is less.\n",
    "But when the probability of admit is less, the errors are somewhat more"
   ]
  },
  {
   "cell_type": "markdown",
   "metadata": {},
   "source": [
    "                                                                                            -Souparna Das\n",
    "                                                                                            IIIT HYDERABAD"
   ]
  },
  {
   "cell_type": "code",
   "execution_count": null,
   "metadata": {},
   "outputs": [],
   "source": []
  }
 ],
 "metadata": {
  "kernelspec": {
   "display_name": "Python 3",
   "language": "python",
   "name": "python3"
  },
  "language_info": {
   "codemirror_mode": {
    "name": "ipython",
    "version": 3
   },
   "file_extension": ".py",
   "mimetype": "text/x-python",
   "name": "python",
   "nbconvert_exporter": "python",
   "pygments_lexer": "ipython3",
   "version": "3.6.5"
  }
 },
 "nbformat": 4,
 "nbformat_minor": 2
}
